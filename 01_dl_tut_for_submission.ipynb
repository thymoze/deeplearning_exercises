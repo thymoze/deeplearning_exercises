{
  "cells": [
    {
      "cell_type": "markdown",
      "metadata": {
        "id": "f203dQAOq8S3"
      },
      "source": [
        "## Exercise - DL Tutorial 1 \n",
        "\n",
        "Please complete the following notebook and send it via email to manuel.milling@informatik.uni-augsburg.de OR maurice.gerczuk@informatik.uni-augsburg.de (depending on your tutorial group) by May 05 23:59."
      ]
    },
    {
      "cell_type": "markdown",
      "metadata": {
        "id": "RcOTWRa0q8S9"
      },
      "source": [
        "## student names: David Heim"
      ]
    },
    {
      "cell_type": "markdown",
      "metadata": {
        "id": "wW8JEzOoq8TA"
      },
      "source": [
        "For the following numpy arrays $A$ of shape (10,10) and $w$ of shape (1,10): "
      ]
    },
    {
      "cell_type": "code",
      "execution_count": 1,
      "metadata": {
        "colab": {
          "base_uri": "https://localhost:8080/"
        },
        "id": "CbWV38Lkq8TD",
        "outputId": "05bd980f-1077-44ab-f9b6-cfe0d932d901",
        "scrolled": true
      },
      "outputs": [
        {
          "name": "stdout",
          "output_type": "stream",
          "text": [
            "(10, 10)\n",
            "(1, 10)\n"
          ]
        }
      ],
      "source": [
        "import numpy as np \n",
        "A = np.array([[0.69145505, 0.86931882, 0.88576413, 0.82707554, 0.94754421, 0.54767962,  0.51818679, 0.27907936, 0.95212406, 0.22750068], \\\n",
        "              [0.345638,   0.16172159, 0.87807572, 0.38444467, 0.84255332, 0.69666159,  0.43339905, 0.91927538, 0.58666126, 0.83215206], \\\n",
        "              [0.91359442, 0.06356911, 0.37205853, 0.18242315, 0.37961342, 0.93335263,  0.34068447, 0.48598708, 0.24260729, 0.70004846], \\\n",
        "              [0.75245372, 0.64147803, 0.84013461, 0.6152693,  0.02235612, 0.4492574,  0.55206705, 0.69409179, 0.1666939,  0.67387225], \\\n",
        "              [0.30664677, 0.87559232, 0.07164895, 0.85516997, 0.77945438, 0.51948711,  0.18721151, 0.7690967 , 0.53605078, 0.55431431], \\\n",
        "              [0.1750064,  0.95009262, 0.57121048, 0.87359026, 0.05715099, 0.43202169,  0.3648696,  0.24367817, 0.06807447, 0.46999578], \\\n",
        "              [0.41121198, 0.10125657, 0.0869751,  0.91816382, 0.01738795, 0.19420588,  0.00127754, 0.19281699, 0.56083174, 0.55424236], \\\n",
        "              [0.34467108, 0.18352578, 0.69203741, 0.48087863, 0.39596428, 0.28107969,  0.09727506, 0.11236618, 0.82687268, 0.22700161], \\\n",
        "              [0.92788092, 0.87184167, 0.72492497, 0.94086364, 0.86998108, 0.35178978,  0.45463869, 0.0242793,  0.75607483, 0.21317889], \\\n",
        "              [0.15680697, 0.13109825, 0.93463861, 0.78143659, 0.30680001, 0.67935342,  0.3583568,  0.7522564,  0.19810852, 0.22378965]])\n",
        "w = np.array([[0.49039597, 0.73424538, 0.08249155, 0.0488797,  0.62525918, 0.29331343, 0.76435348, 0.68825002, 0.53465669, 0.3399619]])\n",
        "print(A.shape)\n",
        "print(w.shape)"
      ]
    },
    {
      "cell_type": "markdown",
      "metadata": {
        "id": "lpT00pBuq8TJ"
      },
      "source": [
        "Answer the following 10 questions using Numpy. Avoid the explicit use of ANY for and while loops, but rather use numpy methods and operations to solve the tasks, as the strengths of numpy, its efficiency and clarity, lie within them."
      ]
    },
    {
      "cell_type": "markdown",
      "metadata": {
        "id": "IIH9WkCZq8TL"
      },
      "source": [
        "1.   what is the row index in $A$ that has the largest last element? \n"
      ]
    },
    {
      "cell_type": "code",
      "execution_count": 2,
      "metadata": {
        "colab": {
          "base_uri": "https://localhost:8080/"
        },
        "id": "CEib-ABBq8TN",
        "outputId": "e2fc582a-29ad-4aae-b48b-0c0d5065df9b"
      },
      "outputs": [
        {
          "data": {
            "text/plain": [
              "1"
            ]
          },
          "execution_count": 2,
          "metadata": {},
          "output_type": "execute_result"
        }
      ],
      "source": [
        "np.argmax(A[:,-1])"
      ]
    },
    {
      "cell_type": "markdown",
      "metadata": {
        "id": "y7gZvp9vq8TP"
      },
      "source": [
        "2.   what is the row index in $A$ that has the second largest last element?"
      ]
    },
    {
      "cell_type": "code",
      "execution_count": 3,
      "metadata": {
        "colab": {
          "base_uri": "https://localhost:8080/"
        },
        "id": "DtuvSFzAq8TR",
        "outputId": "0857d64c-ce18-496b-c08a-1a8e88b525f0"
      },
      "outputs": [
        {
          "data": {
            "text/plain": [
              "2"
            ]
          },
          "execution_count": 3,
          "metadata": {},
          "output_type": "execute_result"
        }
      ],
      "source": [
        "np.argsort(A[:,-1])[-2]"
      ]
    },
    {
      "cell_type": "markdown",
      "metadata": {
        "id": "TrxUa-xZq8TU"
      },
      "source": [
        "3.   what are the row indices in $A$ that have a row sum greater than 5?\n"
      ]
    },
    {
      "cell_type": "code",
      "execution_count": 4,
      "metadata": {
        "colab": {
          "base_uri": "https://localhost:8080/"
        },
        "id": "UxegFJjbq8TW",
        "outputId": "a39deaa1-03a5-4e96-ff60-8a48a7a82aa3"
      },
      "outputs": [
        {
          "data": {
            "text/plain": [
              "(array([0, 1, 3, 4, 8], dtype=int64),)"
            ]
          },
          "execution_count": 4,
          "metadata": {},
          "output_type": "execute_result"
        }
      ],
      "source": [
        "np.where(np.sum(A, axis=1) > 5)"
      ]
    },
    {
      "cell_type": "markdown",
      "metadata": {
        "id": "ENfBODMMq8TX"
      },
      "source": [
        "4.   What is the sum of all elements of the form $A$[i, i+1] in $A$?"
      ]
    },
    {
      "cell_type": "code",
      "execution_count": 5,
      "metadata": {
        "colab": {
          "base_uri": "https://localhost:8080/"
        },
        "id": "i56OxGqcq8TZ",
        "outputId": "e7e07a4a-5110-4031-89d2-152186c8d6a2"
      },
      "outputs": [
        {
          "data": {
            "text/plain": [
              "4.06939908"
            ]
          },
          "execution_count": 5,
          "metadata": {},
          "output_type": "execute_result"
        }
      ],
      "source": [
        "np.sum(np.diag(A, 1))"
      ]
    },
    {
      "cell_type": "markdown",
      "metadata": {
        "id": "LUU5uS2tq8Ta"
      },
      "source": [
        "5.   multiply elementwise every row in matrix $A$ by the vector $w$, and then sum the results for every row\n"
      ]
    },
    {
      "cell_type": "code",
      "execution_count": 6,
      "metadata": {
        "colab": {
          "base_uri": "https://localhost:8080/"
        },
        "id": "dVLz12YPq8Tc",
        "outputId": "bcc41b94-fe02-41e7-e3b1-4abbdb69d8e1"
      },
      "outputs": [
        {
          "data": {
            "text/plain": [
              "array([3.01853317, 2.67114631, 2.00801385, 2.30303029, 2.62819786,\n",
              "       1.67847435, 1.01784983, 1.38534892, 2.68904048, 1.65319672])"
            ]
          },
          "execution_count": 6,
          "metadata": {},
          "output_type": "execute_result"
        }
      ],
      "source": [
        "np.sum(A * w, axis=1)"
      ]
    },
    {
      "cell_type": "markdown",
      "metadata": {
        "id": "4rOVGehAq8Td"
      },
      "source": [
        "6.   do the above task in 5. using matrix multiplication\n"
      ]
    },
    {
      "cell_type": "code",
      "execution_count": 7,
      "metadata": {
        "colab": {
          "base_uri": "https://localhost:8080/"
        },
        "id": "jADtbVErq8Th",
        "outputId": "0d9946dc-4ee9-426c-f19c-14762054f50e"
      },
      "outputs": [
        {
          "data": {
            "text/plain": [
              "array([[3.01853317],\n",
              "       [2.67114631],\n",
              "       [2.00801385],\n",
              "       [2.30303029],\n",
              "       [2.62819786],\n",
              "       [1.67847435],\n",
              "       [1.01784983],\n",
              "       [1.38534892],\n",
              "       [2.68904048],\n",
              "       [1.65319672]])"
            ]
          },
          "execution_count": 7,
          "metadata": {},
          "output_type": "execute_result"
        }
      ],
      "source": [
        "A @ w.T"
      ]
    },
    {
      "cell_type": "markdown",
      "metadata": {
        "id": "z4pmO3pSq8Ti"
      },
      "source": [
        "7.   set all elements of $A$ that are larger than 0.5 to 0. What is the sum of the resulting matrix?"
      ]
    },
    {
      "cell_type": "code",
      "execution_count": 8,
      "metadata": {
        "colab": {
          "base_uri": "https://localhost:8080/"
        },
        "id": "RMAXseqnq8Tj",
        "outputId": "625fd81a-820a-47c7-ec92-98c3ebb3bf02"
      },
      "outputs": [
        {
          "data": {
            "text/plain": [
              "12.46007933"
            ]
          },
          "execution_count": 8,
          "metadata": {},
          "output_type": "execute_result"
        }
      ],
      "source": [
        "np.sum(np.where(A > 0.5, 0, A))"
      ]
    },
    {
      "cell_type": "markdown",
      "metadata": {
        "id": "IrEpmdV2q8Tk"
      },
      "source": [
        "8.   subtract 1 from all elements of $A$ that are smaller than 0.5. What is the sum of the resulting matrix?"
      ]
    },
    {
      "cell_type": "code",
      "execution_count": 9,
      "metadata": {
        "colab": {
          "base_uri": "https://localhost:8080/"
        },
        "id": "X1XPL6EUq8Tm",
        "outputId": "3f591ffc-63f2-4244-c65a-897c5303e390",
        "scrolled": true
      },
      "outputs": [
        {
          "data": {
            "text/plain": [
              "-1.15357179"
            ]
          },
          "execution_count": 9,
          "metadata": {},
          "output_type": "execute_result"
        }
      ],
      "source": [
        "np.sum(np.where(A < 0.5, A - 1, A))"
      ]
    },
    {
      "cell_type": "markdown",
      "metadata": {
        "id": "sgzS2RcDq8Tn"
      },
      "source": [
        "9.   what is the sum of all element in A, that are smaller than their column's mean?"
      ]
    },
    {
      "cell_type": "code",
      "execution_count": 10,
      "metadata": {
        "colab": {
          "base_uri": "https://localhost:8080/"
        },
        "id": "lVUm2yZGq8Tx",
        "outputId": "1e98642a-3ba1-4f01-82ce-26829fc713b1"
      },
      "outputs": [
        {
          "data": {
            "text/plain": [
              "10.738627639999999"
            ]
          },
          "execution_count": 10,
          "metadata": {},
          "output_type": "execute_result"
        }
      ],
      "source": [
        "np.sum(np.where(A < np.mean(A, axis=0), A, 0))"
      ]
    },
    {
      "cell_type": "markdown",
      "metadata": {
        "id": "9wn39Vvmq8Tx"
      },
      "source": [
        "10.  create a diagonal matrix $B$ of size 10*10, with $B_{i,i}= i$"
      ]
    },
    {
      "cell_type": "code",
      "execution_count": 11,
      "metadata": {
        "colab": {
          "base_uri": "https://localhost:8080/"
        },
        "id": "_R4yxpUGq8T0",
        "outputId": "2dd3016d-db5a-47d2-ab58-93a567b5238d"
      },
      "outputs": [
        {
          "name": "stdout",
          "output_type": "stream",
          "text": [
            "[[0 0 0 0 0 0 0 0 0 0]\n",
            " [0 1 0 0 0 0 0 0 0 0]\n",
            " [0 0 2 0 0 0 0 0 0 0]\n",
            " [0 0 0 3 0 0 0 0 0 0]\n",
            " [0 0 0 0 4 0 0 0 0 0]\n",
            " [0 0 0 0 0 5 0 0 0 0]\n",
            " [0 0 0 0 0 0 6 0 0 0]\n",
            " [0 0 0 0 0 0 0 7 0 0]\n",
            " [0 0 0 0 0 0 0 0 8 0]\n",
            " [0 0 0 0 0 0 0 0 0 9]]\n",
            "(10, 10)\n"
          ]
        }
      ],
      "source": [
        "B = np.diag(np.arange(10))\n",
        "print(B)\n",
        "print(B.shape)"
      ]
    }
  ],
  "metadata": {
    "colab": {
      "collapsed_sections": [],
      "name": "01_dl_tut_for_submission.ipynb",
      "provenance": []
    },
    "kernelspec": {
      "display_name": "Python 3",
      "language": "python",
      "name": "python3"
    },
    "language_info": {
      "codemirror_mode": {
        "name": "ipython",
        "version": 3
      },
      "file_extension": ".py",
      "mimetype": "text/x-python",
      "name": "python",
      "nbconvert_exporter": "python",
      "pygments_lexer": "ipython3",
      "version": "3.8.2"
    }
  },
  "nbformat": 4,
  "nbformat_minor": 0
}
