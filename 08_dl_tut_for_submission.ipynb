{
 "cells": [
  {
   "cell_type": "markdown",
   "metadata": {},
   "source": [
    "## Exercise - DL Tutorial 08\n",
    "\n",
    "### Student names:  Franz Schulze, Benedikt Bauer, David Heim\n",
    "\n",
    "Submit you solution by 30 June 23:59 to manuel.milling@informatik.uni-augsburg.de or maurice.gerczuk@informatik.uni-augsburg.de"
   ]
  },
  {
   "cell_type": "code",
   "execution_count": 16,
   "metadata": {},
   "outputs": [],
   "source": [
    "import numpy as np\n",
    "import re\n",
    "from sklearn.preprocessing import LabelEncoder\n",
    "from tensorflow import keras\n",
    "from tensorflow.keras.layers import Dense, Bidirectional, LSTM, Embedding, Dropout\n",
    "\n",
    "\n",
    "w2v_embedding_file = \"./res/data/embeddings/word2vec-40k-wiki-news-300d.vec\"#\"./res/data/embeddings/word2vec-40k-wiki-news-300d.vec\"\n",
    "ewe_embedding_file = \"./res/data/embeddings/ewe-40k-wiki-news-300d.vec\"\n",
    "\n",
    "train_tsv = \"./res/data/isear/train.tsv \"\n",
    "val_tsv = \"./res/data/isear/val.tsv\"\n",
    "test_tsv = \"./res/data/isear/test.tsv\"\n",
    "\n",
    "oov_id=1\n",
    "pad_id=0\n",
    "seq_length=128\n",
    "batch_size=32\n",
    "epochs=5\n",
    "\n",
    "lr=0.005"
   ]
  },
  {
   "cell_type": "markdown",
   "metadata": {},
   "source": [
    "2. Load word2vec embedding matrix and create word-index-dictionary."
   ]
  },
  {
   "cell_type": "code",
   "execution_count": 17,
   "metadata": {},
   "outputs": [
    {
     "name": "stdout",
     "output_type": "stream",
     "text": [
      "w2v_emb_matrix:\t\t(40002, 300)\n",
      "w2v_word2idx shape:\t40000\n"
     ]
    }
   ],
   "source": [
    "def read_embedding_matrix(embedding_file):\n",
    "    words = []\n",
    "    embeddings = []\n",
    "    with open(embedding_file, encoding='utf-8') as f:\n",
    "        for line in f.readlines():\n",
    "            line = line.replace(\"\\n\", \"\")\n",
    "            col = line.split(\" \")\n",
    "            words.append(col[0])\n",
    "            embeddings.append(np.array([float(c) for c in col[1:]]))\n",
    "    embedding_matrix = np.row_stack(embeddings)\n",
    "    pad_embedding = np.zeros(embedding_matrix.shape[1])\n",
    "    oov_embedding = np.expand_dims(np.mean(embedding_matrix, axis=0), 0)\n",
    "    embedding_matrix = np.row_stack([pad_embedding, embedding_matrix, oov_embedding])\n",
    "    w2v_word2idx = {word: i for i, word in enumerate(words)}\n",
    "    return embedding_matrix, w2v_word2idx\n",
    "\n",
    "w2v_emb_matrix, w2v_word2idx = read_embedding_matrix(w2v_embedding_file)\n",
    "print(f\"w2v_emb_matrix:\\t\\t{w2v_emb_matrix.shape}\")\n",
    "print(f\"w2v_word2idx shape:\\t{len(w2v_word2idx)}\")\n",
    "# num_words = 40000\n",
    "# embedding_dim = 300\n",
    "# def read_embedding_matrix(embedding_file):\n",
    "#     file = open(embedding_file, 'r', encoding='utf-8')\n",
    "#     w2v_emb_matrix = np.array(file,(num_words + 2, embedding_dim))\n",
    "#     w2v_emb_matrix[0] = np.zeros(embedding_dim)\n",
    "#     w2v_emb_matrix[1] = np.mean(embedding_dim, axis=1)\n",
    "#     dict_word2idx = {word: i + 2 for i, word in enumerate(w2v_emb_matrix[:, 0])}\n",
    "#     # words = []\n",
    "#     # embeddings = []\n",
    "#     # with open(w2v_embedding_file) as file:\n",
    "#     #     for line in file.readlines():\n",
    "#     #         line = line.replace(\"\\n\",\"\")\n",
    "#     #         columns = line.split(\" \")\n",
    "#     #         words.append(columns[0])\n",
    "#     #         embeddings.append(np.array([float(f) for f in columns[1:]]))\n",
    "\n",
    "#     # emb_matrix = np.row_stack(embeddings)\n",
    "#     # # Put pad embedding at position 0.\n",
    "#     # pad_emb = np.zeros((1, emb_matrix.shape[1]))\n",
    "#     # # Put oov embedding at position 1.\n",
    "#     # oov_emb = np.expand_dims(np.mean(emb_matrix, axis=0), 0)\n",
    "#     # emb_matrix = np.row_stack([pad_emb, oov_emb, emb_matrix])\n",
    "    \n",
    "#     # # Caution: added pad and oov token.\n",
    "#     # w2v_word2idx = {word: i + 2 for i, word in enumerate(words)}\n",
    "#     # return emb_matrix, w2v_word2idx\n",
    "\n",
    "# w2v_emb_matrix, w2v_word2idx = read_embedding_matrix(w2v_embedding_file)\n",
    "# print(f\"w2v_emb_matrix:\\t\\t{w2v_emb_matrix.shape}\")\n",
    "# print(f\"w2v_word2idx shape:\\t{len(w2v_word2idx)}\")"
   ]
  },
  {
   "cell_type": "markdown",
   "metadata": {},
   "source": [
    "3. Prepare data:\n",
    "- Load the sentences from the tsv files.\n",
    "- Unify sentences (lower case, remove punctuation, etc.).\n",
    "- Split sentences into words.\n",
    "- Cut and zero pad sentences.\n",
    "- Map words to indices.\n",
    "- Map string labels to integers."
   ]
  },
  {
   "cell_type": "code",
   "execution_count": 18,
   "metadata": {},
   "outputs": [
    {
     "name": "stdout",
     "output_type": "stream",
     "text": [
      "x_train shape:\t\t(5976, 128)\n",
      "x_validation shape:\t(752, 128)\n",
      "x_test shape:\t\t(736, 128)\n",
      "y_train shape:\t\t(5976,)\n",
      "y_validation shape:\t(752,)\n",
      "y_test shape:\t\t(736,)\n"
     ]
    }
   ],
   "source": [
    "def read_tsv(tsv, word2idx, oov_id=1, pad_id=0, seq_length=128):\n",
    "    texts = []\n",
    "    labels = []\n",
    "    with open(tsv, encoding='utf-8') as f:\n",
    "        for line in f.readlines():\n",
    "            line = line.replace(\"\\n\", \"\")\n",
    "            line_splitted = line.split(\"\\t\")\n",
    "            text = line_splitted[0]\n",
    "            label = line_splitted[1]\n",
    "            text = re.sub(r'[^\\w\\s]', '', text)\n",
    "            text = re.sub(r'\\s\\s+', ' ', text)\n",
    "            text = text.strip()\n",
    "            text_list = text.lower().split(\" \")\n",
    "            text_to_words = [t for t in text_list if len(t) > 0]\n",
    "            text_to_words = text_to_words[:seq_length]\n",
    "            text_to_words = [word2idx.get(token, oov_id) for token in text_to_words]\n",
    "            text_to_words = text_to_words + (seq_length - len(text_to_words)) * [pad_id]\n",
    "            texts.append(text_to_words)\n",
    "            labels.append(label)\n",
    "    return np.array(texts), np.array(labels)\n",
    "train_X, train_y = read_tsv(train_tsv, w2v_word2idx, oov_id=oov_id, pad_id=pad_id, seq_length=seq_length)\n",
    "val_X, val_y = read_tsv(val_tsv, w2v_word2idx, oov_id=oov_id, pad_id=pad_id, seq_length=seq_length)\n",
    "test_X, test_y = read_tsv(test_tsv, w2v_word2idx, oov_id=oov_id, pad_id=pad_id, seq_length=seq_length)\n",
    "\n",
    "# convert labels from string to int\n",
    "\n",
    "print(f\"x_train shape:\\t\\t{train_X.shape}\")\n",
    "print(f\"x_validation shape:\\t{val_X.shape}\")\n",
    "print(f\"x_test shape:\\t\\t{test_X.shape}\")\n",
    "print(f\"y_train shape:\\t\\t{train_y.shape}\")\n",
    "print(f\"y_validation shape:\\t{val_y.shape}\")\n",
    "print(f\"y_test shape:\\t\\t{test_y.shape}\")"
   ]
  },
  {
   "cell_type": "markdown",
   "metadata": {},
   "source": [
    "4. Initialise, train  and evaluate model."
   ]
  },
  {
   "cell_type": "code",
   "execution_count": 19,
   "metadata": {
    "scrolled": true
   },
   "outputs": [
    {
     "name": "stdout",
     "output_type": "stream",
     "text": [
      "Model: \"sequential_3\"\n",
      "_________________________________________________________________\n",
      "Layer (type)                 Output Shape              Param #   \n",
      "=================================================================\n",
      "embedding_3 (Embedding)      (None, None, 300)         12000600  \n",
      "_________________________________________________________________\n",
      "bidirectional_6 (Bidirection (None, None, 128)         186880    \n",
      "_________________________________________________________________\n",
      "bidirectional_7 (Bidirection (None, 128)               98816     \n",
      "_________________________________________________________________\n",
      "dense_3 (Dense)              (None, 7)                 903       \n",
      "=================================================================\n",
      "Total params: 12,287,199\n",
      "Trainable params: 286,599\n",
      "Non-trainable params: 12,000,600\n",
      "_________________________________________________________________\n"
     ]
    }
   ],
   "source": [
    "model = keras.Sequential([\n",
    "    Embedding(input_dim=len(w2v_word2idx.keys()) + 2, output_dim=300, mask_zero=True, \n",
    "              embeddings_initializer=keras.initializers.Constant(w2v_emb_matrix), trainable=False),\n",
    "    Bidirectional(LSTM(64, return_sequences=True, dropout=0.5)),\n",
    "    Bidirectional(LSTM(64, dropout=0.5)),\n",
    "    Dense(7, activation='softmax')]\n",
    ")\n",
    "model.compile(loss='sparse_categorical_crossentropy', optimizer=keras.optimizers.Adam(learning_rate=lr), metrics='accuracy')\n",
    "model.summary()"
   ]
  },
  {
   "cell_type": "code",
   "execution_count": 20,
   "id": "24d29a88",
   "metadata": {},
   "outputs": [
    {
     "name": "stdout",
     "output_type": "stream",
     "text": [
      "Epoch 1/5\n"
     ]
    },
    {
     "ename": "UnimplementedError",
     "evalue": " Cast string to float is not supported\n\t [[node sparse_categorical_crossentropy/Cast (defined at <ipython-input-20-4ccd1de56494>:1) ]] [Op:__inference_train_function_110853]\n\nFunction call stack:\ntrain_function\n",
     "output_type": "error",
     "traceback": [
      "\u001b[1;31m---------------------------------------------------------------------------\u001b[0m",
      "\u001b[1;31mUnimplementedError\u001b[0m                        Traceback (most recent call last)",
      "\u001b[1;32mc:\\Users\\Franz\\OneDrive\\Uni\\DeepLearning\\DL_Exercise\\Git_repo\\08_dl_tut_for_submission.ipynb Cell 9'\u001b[0m in \u001b[0;36m<cell line: 1>\u001b[1;34m()\u001b[0m\n\u001b[1;32m----> <a href='vscode-notebook-cell:/c%3A/Users/Franz/OneDrive/Uni/DeepLearning/DL_Exercise/Git_repo/08_dl_tut_for_submission.ipynb#ch0000013?line=0'>1</a>\u001b[0m history \u001b[39m=\u001b[39m model\u001b[39m.\u001b[39;49mfit(x\u001b[39m=\u001b[39;49mtrain_X,y\u001b[39m=\u001b[39;49mtrain_y, epochs\u001b[39m=\u001b[39;49mepochs, batch_size\u001b[39m=\u001b[39;49mbatch_size, validation_data\u001b[39m=\u001b[39;49m(val_X, val_y))\n",
      "File \u001b[1;32m~\\AppData\\Roaming\\Python\\Python39\\site-packages\\tensorflow\\python\\keras\\engine\\training.py:1183\u001b[0m, in \u001b[0;36mModel.fit\u001b[1;34m(self, x, y, batch_size, epochs, verbose, callbacks, validation_split, validation_data, shuffle, class_weight, sample_weight, initial_epoch, steps_per_epoch, validation_steps, validation_batch_size, validation_freq, max_queue_size, workers, use_multiprocessing)\u001b[0m\n\u001b[0;32m   1176\u001b[0m \u001b[39mwith\u001b[39;00m trace\u001b[39m.\u001b[39mTrace(\n\u001b[0;32m   1177\u001b[0m     \u001b[39m'\u001b[39m\u001b[39mtrain\u001b[39m\u001b[39m'\u001b[39m,\n\u001b[0;32m   1178\u001b[0m     epoch_num\u001b[39m=\u001b[39mepoch,\n\u001b[0;32m   1179\u001b[0m     step_num\u001b[39m=\u001b[39mstep,\n\u001b[0;32m   1180\u001b[0m     batch_size\u001b[39m=\u001b[39mbatch_size,\n\u001b[0;32m   1181\u001b[0m     _r\u001b[39m=\u001b[39m\u001b[39m1\u001b[39m):\n\u001b[0;32m   1182\u001b[0m   callbacks\u001b[39m.\u001b[39mon_train_batch_begin(step)\n\u001b[1;32m-> 1183\u001b[0m   tmp_logs \u001b[39m=\u001b[39m \u001b[39mself\u001b[39;49m\u001b[39m.\u001b[39;49mtrain_function(iterator)\n\u001b[0;32m   1184\u001b[0m   \u001b[39mif\u001b[39;00m data_handler\u001b[39m.\u001b[39mshould_sync:\n\u001b[0;32m   1185\u001b[0m     context\u001b[39m.\u001b[39masync_wait()\n",
      "File \u001b[1;32m~\\AppData\\Roaming\\Python\\Python39\\site-packages\\tensorflow\\python\\eager\\def_function.py:889\u001b[0m, in \u001b[0;36mFunction.__call__\u001b[1;34m(self, *args, **kwds)\u001b[0m\n\u001b[0;32m    886\u001b[0m compiler \u001b[39m=\u001b[39m \u001b[39m\"\u001b[39m\u001b[39mxla\u001b[39m\u001b[39m\"\u001b[39m \u001b[39mif\u001b[39;00m \u001b[39mself\u001b[39m\u001b[39m.\u001b[39m_jit_compile \u001b[39melse\u001b[39;00m \u001b[39m\"\u001b[39m\u001b[39mnonXla\u001b[39m\u001b[39m\"\u001b[39m\n\u001b[0;32m    888\u001b[0m \u001b[39mwith\u001b[39;00m OptionalXlaContext(\u001b[39mself\u001b[39m\u001b[39m.\u001b[39m_jit_compile):\n\u001b[1;32m--> 889\u001b[0m   result \u001b[39m=\u001b[39m \u001b[39mself\u001b[39m\u001b[39m.\u001b[39m_call(\u001b[39m*\u001b[39margs, \u001b[39m*\u001b[39m\u001b[39m*\u001b[39mkwds)\n\u001b[0;32m    891\u001b[0m new_tracing_count \u001b[39m=\u001b[39m \u001b[39mself\u001b[39m\u001b[39m.\u001b[39mexperimental_get_tracing_count()\n\u001b[0;32m    892\u001b[0m without_tracing \u001b[39m=\u001b[39m (tracing_count \u001b[39m==\u001b[39m new_tracing_count)\n",
      "File \u001b[1;32m~\\AppData\\Roaming\\Python\\Python39\\site-packages\\tensorflow\\python\\eager\\def_function.py:950\u001b[0m, in \u001b[0;36mFunction._call\u001b[1;34m(self, *args, **kwds)\u001b[0m\n\u001b[0;32m    946\u001b[0m     \u001b[39mpass\u001b[39;00m  \u001b[39m# Fall through to cond-based initialization.\u001b[39;00m\n\u001b[0;32m    947\u001b[0m   \u001b[39melse\u001b[39;00m:\n\u001b[0;32m    948\u001b[0m     \u001b[39m# Lifting succeeded, so variables are initialized and we can run the\u001b[39;00m\n\u001b[0;32m    949\u001b[0m     \u001b[39m# stateless function.\u001b[39;00m\n\u001b[1;32m--> 950\u001b[0m     \u001b[39mreturn\u001b[39;00m \u001b[39mself\u001b[39m\u001b[39m.\u001b[39m_stateless_fn(\u001b[39m*\u001b[39margs, \u001b[39m*\u001b[39m\u001b[39m*\u001b[39mkwds)\n\u001b[0;32m    951\u001b[0m \u001b[39melse\u001b[39;00m:\n\u001b[0;32m    952\u001b[0m   _, _, _, filtered_flat_args \u001b[39m=\u001b[39m \\\n\u001b[0;32m    953\u001b[0m       \u001b[39mself\u001b[39m\u001b[39m.\u001b[39m_stateful_fn\u001b[39m.\u001b[39m_function_spec\u001b[39m.\u001b[39mcanonicalize_function_inputs(  \u001b[39m# pylint: disable=protected-access\u001b[39;00m\n\u001b[0;32m    954\u001b[0m           \u001b[39m*\u001b[39margs, \u001b[39m*\u001b[39m\u001b[39m*\u001b[39mkwds)\n",
      "File \u001b[1;32m~\\AppData\\Roaming\\Python\\Python39\\site-packages\\tensorflow\\python\\eager\\function.py:3023\u001b[0m, in \u001b[0;36mFunction.__call__\u001b[1;34m(self, *args, **kwargs)\u001b[0m\n\u001b[0;32m   3020\u001b[0m \u001b[39mwith\u001b[39;00m \u001b[39mself\u001b[39m\u001b[39m.\u001b[39m_lock:\n\u001b[0;32m   3021\u001b[0m   (graph_function,\n\u001b[0;32m   3022\u001b[0m    filtered_flat_args) \u001b[39m=\u001b[39m \u001b[39mself\u001b[39m\u001b[39m.\u001b[39m_maybe_define_function(args, kwargs)\n\u001b[1;32m-> 3023\u001b[0m \u001b[39mreturn\u001b[39;00m graph_function\u001b[39m.\u001b[39;49m_call_flat(\n\u001b[0;32m   3024\u001b[0m     filtered_flat_args, captured_inputs\u001b[39m=\u001b[39;49mgraph_function\u001b[39m.\u001b[39;49mcaptured_inputs)\n",
      "File \u001b[1;32m~\\AppData\\Roaming\\Python\\Python39\\site-packages\\tensorflow\\python\\eager\\function.py:1960\u001b[0m, in \u001b[0;36mConcreteFunction._call_flat\u001b[1;34m(self, args, captured_inputs, cancellation_manager)\u001b[0m\n\u001b[0;32m   1956\u001b[0m possible_gradient_type \u001b[39m=\u001b[39m gradients_util\u001b[39m.\u001b[39mPossibleTapeGradientTypes(args)\n\u001b[0;32m   1957\u001b[0m \u001b[39mif\u001b[39;00m (possible_gradient_type \u001b[39m==\u001b[39m gradients_util\u001b[39m.\u001b[39mPOSSIBLE_GRADIENT_TYPES_NONE\n\u001b[0;32m   1958\u001b[0m     \u001b[39mand\u001b[39;00m executing_eagerly):\n\u001b[0;32m   1959\u001b[0m   \u001b[39m# No tape is watching; skip to running the function.\u001b[39;00m\n\u001b[1;32m-> 1960\u001b[0m   \u001b[39mreturn\u001b[39;00m \u001b[39mself\u001b[39m\u001b[39m.\u001b[39m_build_call_outputs(\u001b[39mself\u001b[39;49m\u001b[39m.\u001b[39;49m_inference_function\u001b[39m.\u001b[39;49mcall(\n\u001b[0;32m   1961\u001b[0m       ctx, args, cancellation_manager\u001b[39m=\u001b[39;49mcancellation_manager))\n\u001b[0;32m   1962\u001b[0m forward_backward \u001b[39m=\u001b[39m \u001b[39mself\u001b[39m\u001b[39m.\u001b[39m_select_forward_and_backward_functions(\n\u001b[0;32m   1963\u001b[0m     args,\n\u001b[0;32m   1964\u001b[0m     possible_gradient_type,\n\u001b[0;32m   1965\u001b[0m     executing_eagerly)\n\u001b[0;32m   1966\u001b[0m forward_function, args_with_tangents \u001b[39m=\u001b[39m forward_backward\u001b[39m.\u001b[39mforward()\n",
      "File \u001b[1;32m~\\AppData\\Roaming\\Python\\Python39\\site-packages\\tensorflow\\python\\eager\\function.py:591\u001b[0m, in \u001b[0;36m_EagerDefinedFunction.call\u001b[1;34m(self, ctx, args, cancellation_manager)\u001b[0m\n\u001b[0;32m    589\u001b[0m \u001b[39mwith\u001b[39;00m _InterpolateFunctionError(\u001b[39mself\u001b[39m):\n\u001b[0;32m    590\u001b[0m   \u001b[39mif\u001b[39;00m cancellation_manager \u001b[39mis\u001b[39;00m \u001b[39mNone\u001b[39;00m:\n\u001b[1;32m--> 591\u001b[0m     outputs \u001b[39m=\u001b[39m execute\u001b[39m.\u001b[39;49mexecute(\n\u001b[0;32m    592\u001b[0m         \u001b[39mstr\u001b[39;49m(\u001b[39mself\u001b[39;49m\u001b[39m.\u001b[39;49msignature\u001b[39m.\u001b[39;49mname),\n\u001b[0;32m    593\u001b[0m         num_outputs\u001b[39m=\u001b[39;49m\u001b[39mself\u001b[39;49m\u001b[39m.\u001b[39;49m_num_outputs,\n\u001b[0;32m    594\u001b[0m         inputs\u001b[39m=\u001b[39;49margs,\n\u001b[0;32m    595\u001b[0m         attrs\u001b[39m=\u001b[39;49mattrs,\n\u001b[0;32m    596\u001b[0m         ctx\u001b[39m=\u001b[39;49mctx)\n\u001b[0;32m    597\u001b[0m   \u001b[39melse\u001b[39;00m:\n\u001b[0;32m    598\u001b[0m     outputs \u001b[39m=\u001b[39m execute\u001b[39m.\u001b[39mexecute_with_cancellation(\n\u001b[0;32m    599\u001b[0m         \u001b[39mstr\u001b[39m(\u001b[39mself\u001b[39m\u001b[39m.\u001b[39msignature\u001b[39m.\u001b[39mname),\n\u001b[0;32m    600\u001b[0m         num_outputs\u001b[39m=\u001b[39m\u001b[39mself\u001b[39m\u001b[39m.\u001b[39m_num_outputs,\n\u001b[1;32m   (...)\u001b[0m\n\u001b[0;32m    603\u001b[0m         ctx\u001b[39m=\u001b[39mctx,\n\u001b[0;32m    604\u001b[0m         cancellation_manager\u001b[39m=\u001b[39mcancellation_manager)\n",
      "File \u001b[1;32m~\\AppData\\Roaming\\Python\\Python39\\site-packages\\tensorflow\\python\\eager\\execute.py:59\u001b[0m, in \u001b[0;36mquick_execute\u001b[1;34m(op_name, num_outputs, inputs, attrs, ctx, name)\u001b[0m\n\u001b[0;32m     57\u001b[0m \u001b[39mtry\u001b[39;00m:\n\u001b[0;32m     58\u001b[0m   ctx\u001b[39m.\u001b[39mensure_initialized()\n\u001b[1;32m---> 59\u001b[0m   tensors \u001b[39m=\u001b[39m pywrap_tfe\u001b[39m.\u001b[39;49mTFE_Py_Execute(ctx\u001b[39m.\u001b[39;49m_handle, device_name, op_name,\n\u001b[0;32m     60\u001b[0m                                       inputs, attrs, num_outputs)\n\u001b[0;32m     61\u001b[0m \u001b[39mexcept\u001b[39;00m core\u001b[39m.\u001b[39m_NotOkStatusException \u001b[39mas\u001b[39;00m e:\n\u001b[0;32m     62\u001b[0m   \u001b[39mif\u001b[39;00m name \u001b[39mis\u001b[39;00m \u001b[39mnot\u001b[39;00m \u001b[39mNone\u001b[39;00m:\n",
      "\u001b[1;31mUnimplementedError\u001b[0m:  Cast string to float is not supported\n\t [[node sparse_categorical_crossentropy/Cast (defined at <ipython-input-20-4ccd1de56494>:1) ]] [Op:__inference_train_function_110853]\n\nFunction call stack:\ntrain_function\n"
     ]
    }
   ],
   "source": [
    "history = model.fit(x=train_X,y=train_y, epochs=epochs, batch_size=batch_size, validation_data=(val_X, val_y))"
   ]
  },
  {
   "cell_type": "code",
   "execution_count": null,
   "id": "6fabbc48",
   "metadata": {},
   "outputs": [],
   "source": [
    "model.evaluate(x=test_X, y=test_y)"
   ]
  },
  {
   "cell_type": "markdown",
   "metadata": {},
   "source": [
    "5. EWE embeddings."
   ]
  },
  {
   "cell_type": "code",
   "execution_count": null,
   "metadata": {
    "scrolled": true
   },
   "outputs": [],
   "source": [
    "ewe_emb_matrix, ewe_word2idx = read_embedding_matrix(ewe_embedding_file)\n",
    "train_X, train_y = read_tsv(train_tsv, ewe_word2idx, oov_id=oov_id, pad_id=pad_id, seq_length=seq_length)\n",
    "val_X, val_y = read_tsv(val_tsv, ewe_word2idx, oov_id=oov_id, pad_id=pad_id, seq_length=seq_length)\n",
    "test_X, test_y = read_tsv(test_tsv, ewe_word2idx, oov_id=oov_id, pad_id=pad_id, seq_length=seq_length)\n",
    "\n",
    "# Convert labels from string to int.\n",
    "encoder = LabelEncoder()\n",
    "encoder.fit(train_y)\n",
    "\n",
    "train_y = encoder.transform(train_y)\n",
    "val_y = encoder.transform(val_y)\n",
    "test_y = encoder.transform(test_y)"
   ]
  },
  {
   "cell_type": "code",
   "execution_count": null,
   "id": "295008ea",
   "metadata": {},
   "outputs": [],
   "source": [
    "model_ewe = keras.Sequential([\n",
    "    Embedding(input_dim=len(ewe_word2idx.keys()) + 2, output_dim=300, mask_zero=True, \n",
    "              embeddings_initializer=keras.initializers.Constant(ewe_emb_matrix), \n",
    "                     trainable=False),\n",
    "    Bidirectional(LSTM(64, return_sequences=True, dropout=0.5)),\n",
    "    Bidirectional(LSTM(64, dropout = 0.5)),\n",
    "    Dense(7, activation='softmax')]\n",
    ")\n",
    "model_ewe.compile(\n",
    "    loss='sparse_categorical_crossentropy', optimizer=keras.optimizers.Adam(learning_rate=lr), metrics='accuracy')\n",
    "model_ewe.summary()\n",
    "history = model_ewe.fit(x=train_X, y=train_y, epochs=5, batch_size=32, validation_data=(val_X, val_y))\n",
    "model_ewe.evaluate(x=test_X, y=test_y)"
   ]
  },
  {
   "cell_type": "markdown",
   "metadata": {},
   "source": [
    "6. Custom word embeddings."
   ]
  },
  {
   "cell_type": "code",
   "execution_count": null,
   "metadata": {
    "scrolled": true
   },
   "outputs": [],
   "source": [
    "model_own = keras.Sequential([\n",
    "    Embedding(input_dim=len(w2v_word2idx.keys()) + 2, output_dim=300, mask_zero=True, trainable=True),\n",
    "    Bidirectional(LSTM(64, return_sequences=True, dropout=0.5)),\n",
    "    Bidirectional(LSTM(64, dropout = 0.5)),\n",
    "    Dense(7, activation='softmax')]\n",
    ")\n",
    "model_own.compile(\n",
    "    loss='sparse_categorical_crossentropy', optimizer=keras.optimizers.Adam(learning_rate=lr), metrics='accuracy')"
   ]
  },
  {
   "cell_type": "code",
   "execution_count": null,
   "metadata": {},
   "outputs": [],
   "source": [
    "history = model_own.fit(x=train_X, y=train_y, epochs=5, batch_size=32, validation_data=(val_X, val_y))\n",
    "model_own.evaluate(test_X, test_y)"
   ]
  }
 ],
 "metadata": {
  "kernelspec": {
   "display_name": "Python 3.9.0 64-bit",
   "language": "python",
   "name": "python3"
  },
  "language_info": {
   "codemirror_mode": {
    "name": "ipython",
    "version": 3
   },
   "file_extension": ".py",
   "mimetype": "text/x-python",
   "name": "python",
   "nbconvert_exporter": "python",
   "pygments_lexer": "ipython3",
   "version": "3.9.0"
  },
  "vscode": {
   "interpreter": {
    "hash": "81794d4967e6c3204c66dcd87b604927b115b27c00565d3d43f05ba2f3a2cb0d"
   }
  }
 },
 "nbformat": 4,
 "nbformat_minor": 5
}
