{
 "cells": [
  {
   "cell_type": "markdown",
   "metadata": {},
   "source": [
    "## Exercise - DL Tutorial 09\n",
    "\n",
    "### Student names:\n",
    "\n",
    "Submit you solution by 07 July 23:59 to manuel.milling@informatik.uni-augsburg.de or maurice.gerczuk@informatik.uni-augsburg.de"
   ]
  },
  {
   "cell_type": "code",
   "execution_count": null,
   "metadata": {},
   "outputs": [],
   "source": [
    "import tensorflow as tf\n",
    "import numpy as np\n",
    "\n",
    "from tensorflow.keras.models import Sequential\n",
    "from tensorflow.keras.layers import Dense, Activation, Dropout, LeakyReLU, Flatten, Reshape, BatchNormalization\n",
    "from tensorflow.keras.layers import Conv2D, UpSampling2D, Reshape,  MaxPooling2D, Conv2DTranspose\n",
    "from tensorflow.keras.optimizers import Adam, RMSprop, SGD\n",
    "from tensorflow.keras.datasets import mnist\n",
    "\n",
    "import matplotlib.pyplot as plt\n",
    "import os\n",
    "import glob\n",
    "import scipy.misc\n",
    "from IPython.display import clear_output, Image\n",
    "import math"
   ]
  },
  {
   "cell_type": "markdown",
   "metadata": {},
   "source": [
    "### Ring GAN"
   ]
  },
  {
   "cell_type": "code",
   "execution_count": null,
   "metadata": {},
   "outputs": [],
   "source": [
    "# Objective function; Achieve at least .8 with the test vector\n",
    "def ring_objective(preds):\n",
    "    dists = np.sqrt(preds[:, 0] ** 2 + preds[:, 1] ** 2).reshape(-1)\n",
    "    return np.mean(np.where(np.abs(dists - 1) <= 0.1, 1, 0))"
   ]
  },
  {
   "cell_type": "code",
   "execution_count": null,
   "metadata": {},
   "outputs": [],
   "source": [
    "SAMPLE_DIM = 2\n",
    "ITERATIONS = 16001\n",
    "CIRCLE_RADIUS = 1"
   ]
  },
  {
   "cell_type": "markdown",
   "metadata": {},
   "source": [
    "Define discriminator architecture."
   ]
  },
  {
   "cell_type": "code",
   "execution_count": null,
   "metadata": {},
   "outputs": [],
   "source": [
    "def discriminator():\n",
    "    model = Sequential(name='discriminator')\n",
    "    model.add(Dense(512, input_dim=SAMPLE_DIM))\n",
    "    model.add(LeakyReLU(alpha=0.2))\n",
    "    model.add(Dense(256))\n",
    "    model.add(LeakyReLU(alpha=0.2))\n",
    "    model.add(Dense(1, activation='sigmoid'))\n",
    "    model.summary()\n",
    "    return model"
   ]
  },
  {
   "cell_type": "markdown",
   "metadata": {},
   "source": [
    "Define generator architecture."
   ]
  },
  {
   "cell_type": "code",
   "execution_count": null,
   "metadata": {},
   "outputs": [],
   "source": [
    "def generator():\n",
    "    net = Sequential(name='generator')\n",
    "    net.add(Dense(32, input_dim=SAMPLE_DIM))\n",
    "    net.add(LeakyReLU())\n",
    "    net.add(Dense(16))\n",
    "    net.add(LeakyReLU())\n",
    "    net.add(Dense(4))\n",
    "    net.add(LeakyReLU())\n",
    "    net.add(Dense(2))\n",
    "    return net"
   ]
  },
  {
   "cell_type": "markdown",
   "metadata": {},
   "source": [
    "Define and compile GAN architecture."
   ]
  },
  {
   "cell_type": "code",
   "execution_count": null,
   "metadata": {},
   "outputs": [],
   "source": [
    "generator = generator()\n",
    "discriminator = discriminator()\n",
    "discriminator.summary()\n",
    "generator.summary()\n",
    "\n",
    "optimizer = Adam(lr=0.0002, beta_1=0.5)\n",
    "discriminator.compile(loss='binary_crossentropy', optimizer=optimizer, metrics=['accuracy'])\n",
    "generator.compile(loss='mse', optimizer=optimizer)\n",
    "discriminator.trainable = False\n",
    "\n",
    "gan = Sequential(name='gan')\n",
    "gan.add(generator)\n",
    "gan.add(discriminator)\n",
    "gan.compile(loss='binary_crossentropy', optimizer=optimizer, metrics=['accuracy'])\n",
    "gan.summary()"
   ]
  },
  {
   "cell_type": "markdown",
   "metadata": {},
   "source": [
    "Generate training data."
   ]
  },
  {
   "cell_type": "code",
   "execution_count": null,
   "metadata": {},
   "outputs": [],
   "source": [
    "angles = np.random.uniform(0, 2 * math.pi, size=[1024, 1])\n",
    "r_rads = np.random.uniform(0.9, 1.1, size=[1024, 1])\n",
    "x_train = np.hstack((np.cos(angles) * CIRCLE_RADIUS * r_rads, np.sin(angles) * CIRCLE_RADIUS * r_rads))\n",
    "\n",
    "\n",
    "plt.scatter(x_train[:, 0], x_train[:, 1])\n",
    "\n",
    "plt.show()"
   ]
  },
  {
   "cell_type": "markdown",
   "metadata": {},
   "source": [
    "Train GAN."
   ]
  },
  {
   "cell_type": "code",
   "execution_count": null,
   "metadata": {},
   "outputs": [],
   "source": [
    "vis_noise = np.random.normal(0, 1.0, size=[1000, SAMPLE_DIM])\n",
    "\n",
    "acc_adv = []\n",
    "acc_dis = []\n",
    "plot_iteration = []\n",
    "batch_size = 100\n",
    "\n",
    "fake_labels = np.zeros((batch_size // 2, 1))\n",
    "real_labels = np.ones((batch_size // 2, 1))\n",
    "combined_labels = np.vstack((fake_labels, real_labels))\n",
    "real_label_gan = np.ones((batch_size, 1))\n",
    "\n",
    "for i in range(ITERATIONS):\n",
    "\n",
    "    # TODO: Add GAN training.\n",
    "    \n",
    "    # Train the discriminator\n",
    "    idx = np.random.randint(0, x_train.shape[0], batch_size // 2)\n",
    "    real_data = x_train[idx]\n",
    "    gen_data = generator.predict(np.random.normal(0, 1.0, size=[batch_size // 2, SAMPLE_DIM]))\n",
    "    combined_data = np.vstack((real_data, gen_data))\n",
    "    descriminator_stats = discriminator.train_on_batch(combined_data, combined_labels)\n",
    "\n",
    "    noise = np.random.normal(0, 1.0, size=[batch_size, SAMPLE_DIM])\n",
    "    gen_labels = gan.train_on_batch\n",
    "    # Visualization: Plot the accuracy of the discriminator and the adversarial setup + the\n",
    "    # predicted point cloud from the test vector.\n",
    "    if i % 20 == 0:\n",
    "        plot_iteration.append(i)\n",
    "        # Don't forget to include the accuracy metric when compiling the models.\n",
    "        acc_adv.append(adversarial_stats[1])\n",
    "        acc_dis.append(discriminator_stats[1])\n",
    "\n",
    "        clear_output(wait=True)\n",
    "\n",
    "        fig, axes = plt.subplots(1,2)\n",
    "        fig.set_size_inches(16, 10)\n",
    "\n",
    "        axes[0].plot(plot_iteration, acc_adv, label=\"acc adversarial\")\n",
    "        axes[0].plot(plot_iteration, acc_dis, label=\"acc discriminator\")\n",
    "        axes[0].legend()\n",
    "\n",
    "        # Visualize the performance of the generator by producing samples from the test vector.\n",
    "        # generated = net_generator.predict(vis_noise)\n",
    "\n",
    "        axes[1].scatter(x_train[:,0], x_train[:,1], label=\"real\")\n",
    "        axes[1].scatter(generated[:,0], generated[:,1], label=\"fake\")\n",
    "        axes[1].legend()\n",
    "        plt.show()\n",
    "\n",
    "        print(\"Objective score:\", ring_objective(generated))\n"
   ]
  },
  {
   "cell_type": "markdown",
   "metadata": {},
   "source": [
    "### MNIST GAN"
   ]
  },
  {
   "cell_type": "code",
   "execution_count": null,
   "metadata": {},
   "outputs": [],
   "source": [
    "ITERATIONS = 10001\n",
    "# I suggest using uniform random noise vectors of size 100.\n",
    "SAMPLE_DIM = 100"
   ]
  },
  {
   "cell_type": "markdown",
   "metadata": {},
   "source": [
    "Define discriminator architecture."
   ]
  },
  {
   "cell_type": "code",
   "execution_count": null,
   "metadata": {},
   "outputs": [],
   "source": [
    "def discriminator():\n",
    "    pass"
   ]
  },
  {
   "cell_type": "markdown",
   "metadata": {},
   "source": [
    "Define generator architecture."
   ]
  },
  {
   "cell_type": "code",
   "execution_count": null,
   "metadata": {},
   "outputs": [],
   "source": [
    "def generator():\n",
    "    pass"
   ]
  },
  {
   "cell_type": "markdown",
   "metadata": {},
   "source": [
    "Load mnist training data."
   ]
  },
  {
   "cell_type": "code",
   "execution_count": null,
   "metadata": {},
   "outputs": [],
   "source": [
    "(x_train, y_train), (x_test, y_test) = mnist.load_data()\n",
    "# x_train = input_data.read_data_sets(\"mnist\", one_hot=True).train.images\n",
    "x_train = x_train.reshape(-1, 28, 28, 1).astype(np.float32)"
   ]
  },
  {
   "cell_type": "code",
   "execution_count": null,
   "metadata": {},
   "outputs": [],
   "source": [
    "images = x_train[140:160]\n",
    "\n",
    "plt.figure(figsize=(25, 5))\n",
    "\n",
    "for im in range(images.shape[0]):\n",
    "    plt.subplot(2, 10, im + 1)\n",
    "    image = images[im, :, :, :]\n",
    "    image = np.reshape(image, [28, 28])\n",
    "\n",
    "    plt.imshow(image, cmap='gray')\n",
    "    plt.axis('off')"
   ]
  },
  {
   "cell_type": "markdown",
   "metadata": {},
   "source": [
    "Train GAN."
   ]
  },
  {
   "cell_type": "code",
   "execution_count": null,
   "metadata": {},
   "outputs": [],
   "source": [
    "loss_adv = []\n",
    "loss_dis = []\n",
    "acc_adv = []\n",
    "acc_dis = []\n",
    "plot_iteration = []\n",
    "\n",
    "\n",
    "test_noise = np.random.uniform(-1.0, 1.0, size=[10, SAMPLE_DIM])\n",
    "\n",
    "\n",
    "for i in range(ITERATIONS):\n",
    "\n",
    "    # TODO: Add GAN training.\n",
    "\n",
    "\n",
    "    if i % 50 == 0:\n",
    "\n",
    "        clear_output(wait=True)\n",
    "\n",
    "        plot_iteration.append(i)\n",
    "        loss_adv.append(a_stats[0])\n",
    "        loss_dis.append(d_stats[0])\n",
    "        acc_adv.append(a_stats[1])\n",
    "        acc_dis.append(d_stats[1])\n",
    "\n",
    "        fig, ax = plt.subplots(1,2)\n",
    "        fig.set_size_inches(16, 8)\n",
    "\n",
    "        ax[0].plot(plot_iteration, loss_adv, label=\"loss adversarial\")\n",
    "        ax[0].plot(plot_iteration, loss_dis, label=\"loss discriminator\")\n",
    "        ax[0].legend()\n",
    "        ax[0].set_ylim(top=2)\n",
    "\n",
    "        ax[1].plot(plot_iteration, acc_adv, label=\"Accuracy adversarial\")\n",
    "        ax[1].plot(plot_iteration, acc_dis, label=\"Accuracy discriminator\")\n",
    "        ax[1].legend()\n",
    "        \n",
    "        test_samples = net_generator.predict(test_noise)\n",
    "        \n",
    "        \n",
    "        plt.figure(figsize=(20,10))\n",
    "\n",
    "        for im in range(test_samples.shape[0]):\n",
    "            plt.subplot(1, 10, im+1)\n",
    "            image = test_samples[im, :, :, :]\n",
    "            image = np.reshape(image, [28, 28])\n",
    "\n",
    "            plt.imshow(image, cmap='gray')\n",
    "            plt.axis('off')\n",
    "\n",
    "        plt.show()\n"
   ]
  },
  {
   "cell_type": "code",
   "execution_count": null,
   "metadata": {},
   "outputs": [],
   "source": []
  }
 ],
 "metadata": {
  "kernelspec": {
   "display_name": "Python 3",
   "language": "python",
   "name": "python3"
  },
  "language_info": {
   "codemirror_mode": {
    "name": "ipython",
    "version": 3
   },
   "file_extension": ".py",
   "mimetype": "text/x-python",
   "name": "python",
   "nbconvert_exporter": "python",
   "pygments_lexer": "ipython3",
   "version": "3.8.5"
  }
 },
 "nbformat": 4,
 "nbformat_minor": 2
}
