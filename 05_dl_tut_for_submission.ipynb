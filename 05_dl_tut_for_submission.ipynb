{
 "cells": [
  {
   "cell_type": "markdown",
   "metadata": {
    "colab": {
     "base_uri": "https://localhost:8080/",
     "height": 81
    },
    "colab_type": "code",
    "id": "Qu7q0SK01E3y",
    "outputId": "9a20f45a-3107-47f0-9520-6d36cef84587"
   },
   "source": [
    "## Exercise - DL Tutorial 06\n",
    "\n",
    "### student names:\n",
    "\n",
    "Submit you solution by 02 June to manuel.milling@informatik.uni-augsburg.de OR maurice.gerczuk@informatik.uni-augsburg.de"
   ]
  },
  {
   "cell_type": "code",
   "execution_count": 685,
   "metadata": {},
   "outputs": [],
   "source": [
    "import tensorflow as tf\n",
    "import matplotlib.pyplot as plt\n",
    "from tensorflow.keras import Input\n",
    "from tensorflow.keras.models import Sequential\n",
    "from tensorflow.keras.layers import Dense, Activation, Flatten, Dropout\n",
    "from tensorflow.keras.optimizers import Adam, SGD, RMSprop\n",
    "\n",
    "import numpy as np\n",
    "\n",
    "tf.get_logger().setLevel('ERROR')"
   ]
  },
  {
   "cell_type": "code",
   "execution_count": null,
   "metadata": {},
   "outputs": [],
   "source": []
  },
  {
   "cell_type": "markdown",
   "metadata": {},
   "source": [
    "Load MNIST data like in tutorial 3."
   ]
  },
  {
   "cell_type": "code",
   "execution_count": 686,
   "metadata": {
    "colab": {
     "base_uri": "https://localhost:8080/",
     "height": 69
    },
    "colab_type": "code",
    "id": "uOM1I_Ng2XM7",
    "outputId": "1690ff00-0437-498c-9060-b33709256766"
   },
   "outputs": [
    {
     "name": "stdout",
     "output_type": "stream",
     "text": [
      "x_train shape:\t (60000, 784)\n",
      "y_train shape:\t (60000,)\n",
      "x_test shape:\t (10000, 784)\n",
      "y_test shape:\t (10000,)\n"
     ]
    }
   ],
   "source": [
    "from tensorflow.keras.datasets import mnist\n",
    "num_classes = 10\n",
    "\n",
    "(x_train, y_train), (x_test, y_test) = mnist.load_data()\n",
    "x_train = x_train.astype(np.float32) / 255\n",
    "x_test = x_test.astype(np.float32) / 255\n",
    "\n",
    "x_train = x_train.reshape(x_train.shape[0], -1)\n",
    "x_test = x_test.reshape(x_test.shape[0], -1)\n",
    "\n",
    "print('x_train shape:\\t', x_train.shape)\n",
    "print('y_train shape:\\t', y_train.shape)\n",
    "print('x_test shape:\\t', x_test.shape)\n",
    "print('y_test shape:\\t', y_test.shape)"
   ]
  },
  {
   "cell_type": "markdown",
   "metadata": {},
   "source": [
    "Create one-hot target labels for the TensorFlow model."
   ]
  },
  {
   "cell_type": "code",
   "execution_count": 687,
   "metadata": {},
   "outputs": [],
   "source": [
    "one_hot_y_train = tf.keras.utils.to_categorical(y_train, num_classes)\n",
    "one_hot_y_test = tf.keras.utils.to_categorical(y_test, num_classes)"
   ]
  },
  {
   "cell_type": "markdown",
   "metadata": {
    "colab_type": "text",
    "id": "uu-xn6ibDMfY"
   },
   "source": [
    "### 2. Implement model with Sequential API"
   ]
  },
  {
   "cell_type": "markdown",
   "metadata": {},
   "source": [
    "Define model."
   ]
  },
  {
   "cell_type": "code",
   "execution_count": 688,
   "metadata": {
    "colab": {},
    "colab_type": "code",
    "id": "xSLpykL3CttQ"
   },
   "outputs": [
    {
     "name": "stdout",
     "output_type": "stream",
     "text": [
      "Model: \"sequential_126\"\n",
      "_________________________________________________________________\n",
      "Layer (type)                 Output Shape              Param #   \n",
      "=================================================================\n",
      "dense_465 (Dense)            (None, 400)               314000    \n",
      "_________________________________________________________________\n",
      "activation_465 (Activation)  (None, 400)               0         \n",
      "_________________________________________________________________\n",
      "dense_466 (Dense)            (None, 400)               160400    \n",
      "_________________________________________________________________\n",
      "activation_466 (Activation)  (None, 400)               0         \n",
      "_________________________________________________________________\n",
      "dense_467 (Dense)            (None, 10)                4010      \n",
      "_________________________________________________________________\n",
      "activation_467 (Activation)  (None, 10)                0         \n",
      "=================================================================\n",
      "Total params: 478,410\n",
      "Trainable params: 478,410\n",
      "Non-trainable params: 0\n",
      "_________________________________________________________________\n"
     ]
    }
   ],
   "source": [
    "keras_model = Sequential([\n",
    "    Dense(400, input_shape=(784,)),\n",
    "    Activation('sigmoid'),\n",
    "    Dense(400),\n",
    "    Activation('sigmoid'),\n",
    "    Dense(10),\n",
    "    Activation('softmax')\n",
    "])\n",
    "keras_model.summary()"
   ]
  },
  {
   "cell_type": "markdown",
   "metadata": {},
   "source": [
    "Train model."
   ]
  },
  {
   "cell_type": "code",
   "execution_count": 689,
   "metadata": {},
   "outputs": [],
   "source": [
    "SGD_optimizer = SGD(learning_rate=0.1)\n",
    "keras_model.compile(\n",
    "    optimizer=SGD_optimizer,\n",
    "    loss='categorical_crossentropy',\n",
    "    metrics=['accuracy']\n",
    ")"
   ]
  },
  {
   "cell_type": "markdown",
   "metadata": {},
   "source": [
    "Evaluate model."
   ]
  },
  {
   "cell_type": "code",
   "execution_count": 690,
   "metadata": {},
   "outputs": [
    {
     "name": "stdout",
     "output_type": "stream",
     "text": [
      "Epoch 1/5\n",
      "938/938 [==============================] - 3s 3ms/step - loss: 1.1476 - accuracy: 0.6400\n",
      "Epoch 2/5\n",
      "938/938 [==============================] - 2s 3ms/step - loss: 0.4152 - accuracy: 0.8813\n",
      "Epoch 3/5\n",
      "938/938 [==============================] - 3s 3ms/step - loss: 0.3448 - accuracy: 0.8991\n",
      "Epoch 4/5\n",
      "938/938 [==============================] - 2s 3ms/step - loss: 0.3157 - accuracy: 0.9079\n",
      "Epoch 5/5\n",
      "938/938 [==============================] - 3s 3ms/step - loss: 0.2966 - accuracy: 0.9140\n",
      "313/313 [==============================] - 0s 1ms/step - loss: 0.2789 - accuracy: 0.9179\n"
     ]
    },
    {
     "data": {
      "text/plain": [
       "[0.27892422676086426, 0.917900025844574]"
      ]
     },
     "execution_count": 690,
     "metadata": {},
     "output_type": "execute_result"
    }
   ],
   "source": [
    "keras_model.fit(x_train, one_hot_y_train, epochs=5, batch_size=64)\n",
    "keras_model.evaluate(x_test, one_hot_y_test)\n"
   ]
  },
  {
   "cell_type": "markdown",
   "metadata": {},
   "source": [
    "### 3. Implement model with functional API"
   ]
  },
  {
   "cell_type": "markdown",
   "metadata": {},
   "source": [
    "Define model."
   ]
  },
  {
   "cell_type": "code",
   "execution_count": 691,
   "metadata": {},
   "outputs": [],
   "source": [
    "functional_model = Input(shape=(784,))\n",
    "x = Dense(400)(functional_model)\n",
    "x = Activation('sigmoid')(x)\n",
    "x = Dense(400)(x)\n",
    "x = Activation('sigmoid')(x)\n",
    "x = Dense(10)(x)\n",
    "x = Activation('softmax')(x)\n"
   ]
  },
  {
   "cell_type": "markdown",
   "metadata": {},
   "source": [
    "Train model"
   ]
  },
  {
   "cell_type": "code",
   "execution_count": 692,
   "metadata": {},
   "outputs": [],
   "source": [
    "functional_model = tf.keras.Model(inputs=functional_model, outputs=x)\n",
    "functional_model.compile(\n",
    "    optimizer=SGD_optimizer,\n",
    "    loss='categorical_crossentropy',\n",
    "    metrics=['accuracy']\n",
    ")"
   ]
  },
  {
   "cell_type": "markdown",
   "metadata": {},
   "source": [
    "Evaluate Model"
   ]
  },
  {
   "cell_type": "code",
   "execution_count": 693,
   "metadata": {},
   "outputs": [
    {
     "name": "stdout",
     "output_type": "stream",
     "text": [
      "Epoch 1/5\n",
      "938/938 [==============================] - 3s 3ms/step - loss: 1.1389 - accuracy: 0.6388\n",
      "Epoch 2/5\n",
      "938/938 [==============================] - 2s 3ms/step - loss: 0.4171 - accuracy: 0.8800\n",
      "Epoch 3/5\n",
      "938/938 [==============================] - 3s 3ms/step - loss: 0.3477 - accuracy: 0.8993\n",
      "Epoch 4/5\n",
      "938/938 [==============================] - 2s 3ms/step - loss: 0.3176 - accuracy: 0.9076\n",
      "Epoch 5/5\n",
      "938/938 [==============================] - 2s 2ms/step - loss: 0.2988 - accuracy: 0.9130\n",
      "313/313 [==============================] - 1s 1ms/step - loss: 0.2847 - accuracy: 0.9152\n"
     ]
    },
    {
     "data": {
      "text/plain": [
       "[0.28466853499412537, 0.9151999950408936]"
      ]
     },
     "execution_count": 693,
     "metadata": {},
     "output_type": "execute_result"
    }
   ],
   "source": [
    "functional_model.fit(x_train, one_hot_y_train, epochs=5, batch_size=64)\n",
    "functional_model.evaluate(x_test, one_hot_y_test)"
   ]
  },
  {
   "cell_type": "markdown",
   "metadata": {},
   "source": [
    "### 4. Train model with validation split for 20 epochs"
   ]
  },
  {
   "cell_type": "code",
   "execution_count": 694,
   "metadata": {},
   "outputs": [
    {
     "name": "stdout",
     "output_type": "stream",
     "text": [
      "Model: \"model_31\"\n",
      "_________________________________________________________________\n",
      "Layer (type)                 Output Shape              Param #   \n",
      "=================================================================\n",
      "input_35 (InputLayer)        [(None, 784)]             0         \n",
      "_________________________________________________________________\n",
      "dense_471 (Dense)            (None, 400)               314000    \n",
      "_________________________________________________________________\n",
      "activation_471 (Activation)  (None, 400)               0         \n",
      "_________________________________________________________________\n",
      "dense_472 (Dense)            (None, 400)               160400    \n",
      "_________________________________________________________________\n",
      "activation_472 (Activation)  (None, 400)               0         \n",
      "_________________________________________________________________\n",
      "dense_473 (Dense)            (None, 10)                4010      \n",
      "_________________________________________________________________\n",
      "activation_473 (Activation)  (None, 10)                0         \n",
      "=================================================================\n",
      "Total params: 478,410\n",
      "Trainable params: 478,410\n",
      "Non-trainable params: 0\n",
      "_________________________________________________________________\n"
     ]
    }
   ],
   "source": [
    "functional_model = Input(shape=(784,))\n",
    "x = Dense(400)(functional_model)\n",
    "x = Activation('sigmoid')(x)\n",
    "x = Dense(400)(x)\n",
    "x = Activation('sigmoid')(x)\n",
    "x = Dense(10)(x)\n",
    "x = Activation('softmax')(x)\n",
    "functional_model = tf.keras.Model(inputs=functional_model, outputs=x)\n",
    "functional_model.compile(\n",
    "    optimizer=SGD_optimizer,\n",
    "    loss='categorical_crossentropy',\n",
    "    metrics=['accuracy']\n",
    ")\n",
    "functional_model.summary()"
   ]
  },
  {
   "cell_type": "markdown",
   "metadata": {},
   "source": [
    "Plot training progress."
   ]
  },
  {
   "cell_type": "code",
   "execution_count": 695,
   "metadata": {},
   "outputs": [
    {
     "name": "stdout",
     "output_type": "stream",
     "text": [
      "Epoch 1/20\n",
      "750/750 [==============================] - 2s 3ms/step - loss: 1.3145 - accuracy: 0.5775 - val_loss: 0.5555 - val_accuracy: 0.8527\n",
      "Epoch 2/20\n",
      "750/750 [==============================] - 2s 3ms/step - loss: 0.4655 - accuracy: 0.8676 - val_loss: 0.3682 - val_accuracy: 0.8968\n",
      "Epoch 3/20\n",
      "750/750 [==============================] - 2s 3ms/step - loss: 0.3695 - accuracy: 0.8930 - val_loss: 0.3248 - val_accuracy: 0.9061\n",
      "Epoch 4/20\n",
      "750/750 [==============================] - 2s 3ms/step - loss: 0.3363 - accuracy: 0.9023 - val_loss: 0.2999 - val_accuracy: 0.9118\n",
      "Epoch 5/20\n",
      "750/750 [==============================] - 2s 3ms/step - loss: 0.3152 - accuracy: 0.9080 - val_loss: 0.2856 - val_accuracy: 0.9156\n",
      "Epoch 6/20\n",
      "750/750 [==============================] - 2s 3ms/step - loss: 0.3000 - accuracy: 0.9123 - val_loss: 0.2759 - val_accuracy: 0.9206\n",
      "Epoch 7/20\n",
      "750/750 [==============================] - 2s 3ms/step - loss: 0.2868 - accuracy: 0.9161 - val_loss: 0.2655 - val_accuracy: 0.9242\n",
      "Epoch 8/20\n",
      "750/750 [==============================] - 2s 3ms/step - loss: 0.2746 - accuracy: 0.9197 - val_loss: 0.2560 - val_accuracy: 0.9249\n",
      "Epoch 9/20\n",
      "750/750 [==============================] - 2s 3ms/step - loss: 0.2647 - accuracy: 0.9229 - val_loss: 0.2514 - val_accuracy: 0.9282\n",
      "Epoch 10/20\n",
      "750/750 [==============================] - 2s 3ms/step - loss: 0.2536 - accuracy: 0.9257 - val_loss: 0.2412 - val_accuracy: 0.9302\n",
      "Epoch 11/20\n",
      "750/750 [==============================] - 2s 3ms/step - loss: 0.2436 - accuracy: 0.9284 - val_loss: 0.2342 - val_accuracy: 0.9335\n",
      "Epoch 12/20\n",
      "750/750 [==============================] - 2s 3ms/step - loss: 0.2331 - accuracy: 0.9316 - val_loss: 0.2294 - val_accuracy: 0.9338\n",
      "Epoch 13/20\n",
      "750/750 [==============================] - 2s 3ms/step - loss: 0.2234 - accuracy: 0.9350 - val_loss: 0.2178 - val_accuracy: 0.9378\n",
      "Epoch 14/20\n",
      "750/750 [==============================] - 2s 3ms/step - loss: 0.2135 - accuracy: 0.9373 - val_loss: 0.2086 - val_accuracy: 0.9421\n",
      "Epoch 15/20\n",
      "750/750 [==============================] - 2s 3ms/step - loss: 0.2046 - accuracy: 0.9410 - val_loss: 0.2107 - val_accuracy: 0.9410\n",
      "Epoch 16/20\n",
      "750/750 [==============================] - 2s 3ms/step - loss: 0.1958 - accuracy: 0.9429 - val_loss: 0.1893 - val_accuracy: 0.9478\n",
      "Epoch 17/20\n",
      "750/750 [==============================] - 2s 3ms/step - loss: 0.1869 - accuracy: 0.9455 - val_loss: 0.1827 - val_accuracy: 0.9507\n",
      "Epoch 18/20\n",
      "750/750 [==============================] - 2s 3ms/step - loss: 0.1794 - accuracy: 0.9478 - val_loss: 0.1823 - val_accuracy: 0.9496\n",
      "Epoch 19/20\n",
      "750/750 [==============================] - 2s 3ms/step - loss: 0.1718 - accuracy: 0.9496 - val_loss: 0.1761 - val_accuracy: 0.9498\n",
      "Epoch 20/20\n",
      "750/750 [==============================] - 2s 3ms/step - loss: 0.1653 - accuracy: 0.9509 - val_loss: 0.1717 - val_accuracy: 0.9521\n",
      "313/313 [==============================] - 0s 1ms/step - loss: 0.1704 - accuracy: 0.9514\n"
     ]
    },
    {
     "data": {
      "text/plain": [
       "[0.17035023868083954, 0.9513999819755554]"
      ]
     },
     "execution_count": 695,
     "metadata": {},
     "output_type": "execute_result"
    }
   ],
   "source": [
    "history = functional_model.fit(x_train, one_hot_y_train, epochs=20, batch_size=64, validation_split=0.2).history\n",
    "functional_model.evaluate(x_test, one_hot_y_test)"
   ]
  },
  {
   "cell_type": "code",
   "execution_count": 696,
   "metadata": {
    "colab": {
     "base_uri": "https://localhost:8080/",
     "height": 295
    },
    "colab_type": "code",
    "id": "ApPkGrvGC_78",
    "outputId": "52a99e2a-7679-4345-cfde-8b414d07b753"
   },
   "outputs": [
    {
     "data": {
      "image/png": "[encoded data removed]",
      "text/plain": [
       "<Figure size 432x288 with 1 Axes>"
      ]
     },
     "metadata": {
      "needs_background": "light"
     },
     "output_type": "display_data"
    }
   ],
   "source": [
    "plt.plot(history['accuracy'], label='accuracy'), \n",
    "plt.plot(history['val_accuracy'], label='val_accuracy') \n",
    "plt.plot(history['loss'], label='loss'),\n",
    "plt.plot(history['val_loss'], label='val_loss')\n",
    "plt.legend(loc='best')\n",
    "plt.show()"
   ]
  },
  {
   "cell_type": "markdown",
   "metadata": {},
   "source": [
    "### 5/6. Improve Test result to > 98%"
   ]
  },
  {
   "cell_type": "markdown",
   "metadata": {},
   "source": [
    "Define model."
   ]
  },
  {
   "cell_type": "code",
   "execution_count": 697,
   "metadata": {},
   "outputs": [
    {
     "name": "stdout",
     "output_type": "stream",
     "text": [
      "Model: \"sequential_127\"\n",
      "_________________________________________________________________\n",
      "Layer (type)                 Output Shape              Param #   \n",
      "=================================================================\n",
      "dense_474 (Dense)            (None, 520)               408200    \n",
      "_________________________________________________________________\n",
      "activation_474 (Activation)  (None, 520)               0         \n",
      "_________________________________________________________________\n",
      "dense_475 (Dense)            (None, 520)               270920    \n",
      "_________________________________________________________________\n",
      "activation_475 (Activation)  (None, 520)               0         \n",
      "_________________________________________________________________\n",
      "dense_476 (Dense)            (None, 10)                5210      \n",
      "_________________________________________________________________\n",
      "activation_476 (Activation)  (None, 10)                0         \n",
      "=================================================================\n",
      "Total params: 684,330\n",
      "Trainable params: 684,330\n",
      "Non-trainable params: 0\n",
      "_________________________________________________________________\n"
     ]
    }
   ],
   "source": [
    "better_model = Sequential([\n",
    "    Dense(520, input_shape=(784,)),\n",
    "    Activation('relu'),\n",
    "    Dense(520),\n",
    "    Activation('relu'),\n",
    "    Dense(10),\n",
    "    Activation('softmax')\n",
    "])\n",
    "optimizer = Adam(learning_rate=0.001, decay=0.0015)\n",
    "better_model.summary()"
   ]
  },
  {
   "cell_type": "markdown",
   "metadata": {},
   "source": [
    "Train model."
   ]
  },
  {
   "cell_type": "code",
   "execution_count": 698,
   "metadata": {
    "colab": {},
    "colab_type": "code",
    "id": "FxtR1mVPNGC2"
   },
   "outputs": [
    {
     "name": "stdout",
     "output_type": "stream",
     "text": [
      "Epoch 1/5\n",
      "750/750 [==============================] - 5s 6ms/step - loss: 0.2076 - accuracy: 0.9388 - val_loss: 0.1030 - val_accuracy: 0.9681\n",
      "Epoch 2/5\n",
      "750/750 [==============================] - 4s 5ms/step - loss: 0.0706 - accuracy: 0.9785 - val_loss: 0.0838 - val_accuracy: 0.9744\n",
      "Epoch 3/5\n",
      "750/750 [==============================] - 4s 5ms/step - loss: 0.0413 - accuracy: 0.9878 - val_loss: 0.0774 - val_accuracy: 0.9778\n",
      "Epoch 4/5\n",
      "750/750 [==============================] - 4s 5ms/step - loss: 0.0266 - accuracy: 0.9931 - val_loss: 0.0746 - val_accuracy: 0.9778\n",
      "Epoch 5/5\n",
      "750/750 [==============================] - 4s 5ms/step - loss: 0.0169 - accuracy: 0.9961 - val_loss: 0.0725 - val_accuracy: 0.9793\n"
     ]
    }
   ],
   "source": [
    "better_model.compile(\n",
    "    optimizer=optimizer,\n",
    "    loss='categorical_crossentropy',\n",
    "    metrics=['accuracy']\n",
    ")\n",
    "history = better_model.fit(x_train, one_hot_y_train, epochs=5, batch_size=64, validation_split=0.2).history"
   ]
  },
  {
   "cell_type": "markdown",
   "metadata": {},
   "source": [
    "Plot training progress."
   ]
  },
  {
   "cell_type": "code",
   "execution_count": 699,
   "metadata": {},
   "outputs": [
    {
     "data": {
      "image/png": "[encoded data removed]",
      "text/plain": [
       "<Figure size 432x288 with 1 Axes>"
      ]
     },
     "metadata": {
      "needs_background": "light"
     },
     "output_type": "display_data"
    }
   ],
   "source": [
    "plt.plot(history['accuracy'], label='accuracy'), \n",
    "plt.plot(history['val_accuracy'], label='val_accuracy') \n",
    "plt.plot(history['loss'], label='loss'),\n",
    "plt.plot(history['val_loss'], label='val_loss')\n",
    "plt.legend(loc='best')\n",
    "plt.show()"
   ]
  },
  {
   "cell_type": "markdown",
   "metadata": {},
   "source": [
    "Evaluate model."
   ]
  },
  {
   "cell_type": "code",
   "execution_count": 700,
   "metadata": {},
   "outputs": [
    {
     "name": "stdout",
     "output_type": "stream",
     "text": [
      "313/313 [==============================] - 1s 2ms/step - loss: 0.0590 - accuracy: 0.9811\n"
     ]
    },
    {
     "data": {
      "text/plain": [
       "[0.05896598473191261, 0.9811000227928162]"
      ]
     },
     "execution_count": 700,
     "metadata": {},
     "output_type": "execute_result"
    }
   ],
   "source": [
    "better_model.evaluate(x_test, one_hot_y_test)"
   ]
  }
 ],
 "metadata": {
  "accelerator": "GPU",
  "colab": {
   "collapsed_sections": [],
   "name": "dl_tut_6_solution.ipynb",
   "provenance": []
  },
  "interpreter": {
   "hash": "81794d4967e6c3204c66dcd87b604927b115b27c00565d3d43f05ba2f3a2cb0d"
  },
  "kernelspec": {
   "display_name": "Python 3.9.0 64-bit",
   "language": "python",
   "name": "python3"
  },
  "language_info": {
   "codemirror_mode": {
    "name": "ipython",
    "version": 3
   },
   "file_extension": ".py",
   "mimetype": "text/x-python",
   "name": "python",
   "nbconvert_exporter": "python",
   "pygments_lexer": "ipython3",
   "version": "3.9.0"
  }
 },
 "nbformat": 4,
 "nbformat_minor": 1
}
