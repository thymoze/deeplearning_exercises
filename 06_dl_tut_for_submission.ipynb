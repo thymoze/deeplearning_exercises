{
 "cells": [
  {
   "cell_type": "markdown",
   "metadata": {},
   "source": [
    "## Exercise - DL Tutorial 06\n",
    "\n",
    "### student names:\n",
    "\n",
    "Submit you solution by 16 June 23:59 to manuel.milling@informatik.uni-augsburg.de OR maurice.gerczuk@informatik.uni-augsburg.de"
   ]
  },
  {
   "cell_type": "code",
   "execution_count": 1,
   "metadata": {},
   "outputs": [
    {
     "name": "stderr",
     "output_type": "stream",
     "text": [
      "2022-06-16 22:32:33.713557: W tensorflow/stream_executor/platform/default/dso_loader.cc:64] Could not load dynamic library 'libcudart.so.11.0'; dlerror: libcudart.so.11.0: cannot open shared object file: No such file or directory\n",
      "2022-06-16 22:32:33.713594: I tensorflow/stream_executor/cuda/cudart_stub.cc:29] Ignore above cudart dlerror if you do not have a GPU set up on your machine.\n"
     ]
    }
   ],
   "source": [
    "import numpy as np\n",
    "import matplotlib.pyplot as plt\n",
    "import librosa\n",
    "from os.path import basename\n",
    "from glob import glob\n",
    "import tensorflow as tf\n",
    "from tensorflow.keras.models import Sequential\n",
    "from tensorflow.keras.layers import Dropout, Conv2D, MaxPooling2D, BatchNormalization, Dense, Activation, Flatten\n",
    "from tensorflow.keras.optimizers import Adam\n",
    "from sklearn.metrics import confusion_matrix"
   ]
  },
  {
   "cell_type": "code",
   "execution_count": 9,
   "metadata": {},
   "outputs": [],
   "source": [
    "#train_speakers = [\"03\", \"08\", \"09\", \"10\", \"11\", \"12\", \"13\"]\n",
    "train_speakers = [\"03\", \"08\", \"09\", \"10\", \"11\"]\n",
    "validation_speakers = [\"12\", \"13\"]\n",
    "test_speakers = [\"14\", \"15\", \"16\"]\n",
    "data_path = \"./emodb/wav/\"\n",
    "label_dict = {\"A\" : 0, \"F\": 1, \"L\": 2, \"N\": 3, \"T\": 4, \"W\": 5, \"E\": 6}\n",
    "num_classes = len(label_dict.keys())\n",
    "cutoff_length = 4 #s"
   ]
  },
  {
   "cell_type": "markdown",
   "metadata": {},
   "source": [
    "2. Prepare data and labels by cutting/zero-padding to 4 seconds, extracting spectrograms. "
   ]
  },
  {
   "cell_type": "code",
   "execution_count": 11,
   "metadata": {},
   "outputs": [
    {
     "name": "stdout",
     "output_type": "stream",
     "text": [
      "535\n"
     ]
    }
   ],
   "source": [
    "files = glob(data_path + \"*.wav\")\n",
    "files.sort()\n",
    "x_train = []\n",
    "y_train = []\n",
    "x_test = []\n",
    "y_test = []\n",
    "x_validation = []\n",
    "y_validation = []\n",
    "print(len(files))\n",
    "for file in files:\n",
    "    filename = basename(file)\n",
    "    speaker_id = filename[0:2]\n",
    "    label_num = label_dict[filename[5]]\n",
    "    signal, sr = librosa.load(file)\n",
    "    signal_len = signal.shape[0]\n",
    "    if signal_len < cutoff_length * sr:                \n",
    "        signal = np.concatenate((signal, np.zeros(cutoff_length * sr - signal_len)))    \n",
    "    signal = signal[0:cutoff_length * sr]\n",
    "    melspectrogram = librosa.feature.melspectrogram(y = signal)\n",
    "    log_melspectrogram = librosa.power_to_db(melspectrogram)\n",
    "\n",
    "    log_melspectrogram = np.expand_dims(log_melspectrogram, 2)\n",
    "    \n",
    "    if speaker_id in train_speakers:\n",
    "        x_train.append(log_melspectrogram)\n",
    "        y_train.append(label_num)\n",
    "    elif speaker_id in validation_speakers:\n",
    "        x_validation.append(log_melspectrogram)\n",
    "        y_validation.append(label_num)\n",
    "    else:\n",
    "        x_test.append(log_melspectrogram)\n",
    "        y_test.append(label_num)\n",
    "\n",
    "x_train = np.stack(x_train)\n",
    "x_validation = np.stack(x_validation)\n",
    "x_test = np.stack(x_test)\n",
    "y_train = np.array(y_train)\n",
    "y_validation = np.array(y_validation)\n",
    "y_test = np.array(y_test)\n",
    "\n",
    "y_train = tf.keras.utils.to_categorical(y_train, num_classes)\n",
    "y_validation = tf.keras.utils.to_categorical(y_validation, num_classes)\n",
    "y_test = tf.keras.utils.to_categorical(y_test, num_classes) "
   ]
  },
  {
   "cell_type": "code",
   "execution_count": 15,
   "metadata": {},
   "outputs": [
    {
     "name": "stdout",
     "output_type": "stream",
     "text": [
      "x_train shape:\t\t(243, 128, 173, 1)\n",
      "x_validation shape:\t(96, 128, 173, 1)\n",
      "x_test shape:\t\t(196, 128, 173, 1)\n",
      "y_train shape:\t\t(243, 7)\n",
      "y_validation shape:\t(96, 7)\n",
      "y_test shape:\t\t(196, 7)\n"
     ]
    }
   ],
   "source": [
    "print(\"x_train shape:\\t\\t{}\".format(x_train.shape))\n",
    "print(\"x_validation shape:\\t{}\".format(x_validation.shape))\n",
    "print(\"x_test shape:\\t\\t{}\".format(x_test.shape))\n",
    "print(\"y_train shape:\\t\\t{}\".format(y_train.shape))\n",
    "print(\"y_validation shape:\\t{}\".format(y_validation.shape))\n",
    "print(\"y_test shape:\\t\\t{}\".format(y_test.shape))"
   ]
  },
  {
   "cell_type": "markdown",
   "metadata": {},
   "source": [
    "3. Implement CNN-based model"
   ]
  },
  {
   "cell_type": "markdown",
   "metadata": {},
   "source": [
    "4. Train model with early stopping. Evaluate on test data and plot the training history."
   ]
  },
  {
   "cell_type": "code",
   "execution_count": 29,
   "metadata": {},
   "outputs": [
    {
     "name": "stdout",
     "output_type": "stream",
     "text": [
      "Model: \"sequential_3\"\n",
      "_________________________________________________________________\n",
      " Layer (type)                Output Shape              Param #   \n",
      "=================================================================\n",
      " conv2d_6 (Conv2D)           (None, 128, 173, 8)       80        \n",
      "                                                                 \n",
      " batch_normalization_3 (Batc  (None, 128, 173, 8)      32        \n",
      " hNormalization)                                                 \n",
      "                                                                 \n",
      " activation_9 (Activation)   (None, 128, 173, 8)       0         \n",
      "                                                                 \n",
      " max_pooling2d_6 (MaxPooling  (None, 64, 86, 8)        0         \n",
      " 2D)                                                             \n",
      "                                                                 \n",
      " conv2d_7 (Conv2D)           (None, 62, 84, 16)        1168      \n",
      "                                                                 \n",
      " activation_10 (Activation)  (None, 62, 84, 16)        0         \n",
      "                                                                 \n",
      " max_pooling2d_7 (MaxPooling  (None, 31, 42, 16)       0         \n",
      " 2D)                                                             \n",
      "                                                                 \n",
      " flatten_3 (Flatten)         (None, 20832)             0         \n",
      "                                                                 \n",
      " dense_3 (Dense)             (None, 7)                 145831    \n",
      "                                                                 \n",
      " activation_11 (Activation)  (None, 7)                 0         \n",
      "                                                                 \n",
      "=================================================================\n",
      "Total params: 147,111\n",
      "Trainable params: 147,095\n",
      "Non-trainable params: 16\n",
      "_________________________________________________________________\n"
     ]
    }
   ],
   "source": [
    "model = Sequential()\n",
    "model.add(Conv2D(8, (3, 3), padding='same',\n",
    "                 input_shape=x_train.shape[1:]))\n",
    "model.add(BatchNormalization())\n",
    "model.add(Activation('relu'))\n",
    "model.add(MaxPooling2D(pool_size=(2, 2)))\n",
    "model.add(Conv2D(16, (3, 3)))\n",
    "model.add(Activation('relu'))\n",
    "model.add(MaxPooling2D(pool_size=(2, 2)))\n",
    "model.add(Flatten())\n",
    "model.add(Dense(num_classes))\n",
    "model.add(Activation('softmax'))\n",
    "model.compile(loss=tf.keras.losses.categorical_crossentropy,\n",
    "              optimizer=tf.keras.optimizers.Adam(),\n",
    "              metrics=['accuracy'])\n",
    "model.summary()"
   ]
  },
  {
   "cell_type": "code",
   "execution_count": 30,
   "metadata": {},
   "outputs": [
    {
     "name": "stdout",
     "output_type": "stream",
     "text": [
      "Epoch 1/30\n",
      "16/16 [==============================] - 4s 213ms/step - loss: 2.6817 - accuracy: 0.2881 - val_loss: 7.3451 - val_accuracy: 0.2500\n",
      "Epoch 2/30\n",
      "16/16 [==============================] - 2s 140ms/step - loss: 1.6353 - accuracy: 0.4280 - val_loss: 2.8469 - val_accuracy: 0.3125\n",
      "Epoch 3/30\n",
      "16/16 [==============================] - 2s 149ms/step - loss: 1.0651 - accuracy: 0.7037 - val_loss: 2.0452 - val_accuracy: 0.3854\n",
      "Epoch 4/30\n",
      "16/16 [==============================] - 2s 147ms/step - loss: 0.6383 - accuracy: 0.8066 - val_loss: 2.1732 - val_accuracy: 0.3958\n",
      "Epoch 5/30\n",
      "16/16 [==============================] - 2s 151ms/step - loss: 0.2955 - accuracy: 0.9465 - val_loss: 1.6965 - val_accuracy: 0.4479\n",
      "Epoch 6/30\n",
      "16/16 [==============================] - 3s 162ms/step - loss: 0.1888 - accuracy: 0.9794 - val_loss: 2.0221 - val_accuracy: 0.4375\n",
      "Epoch 7/30\n",
      "16/16 [==============================] - 3s 161ms/step - loss: 0.1156 - accuracy: 0.9877 - val_loss: 1.4327 - val_accuracy: 0.5312\n",
      "Epoch 8/30\n",
      "16/16 [==============================] - 3s 162ms/step - loss: 0.0605 - accuracy: 1.0000 - val_loss: 1.3260 - val_accuracy: 0.5521\n",
      "Epoch 9/30\n",
      "16/16 [==============================] - 3s 174ms/step - loss: 0.0284 - accuracy: 1.0000 - val_loss: 1.1967 - val_accuracy: 0.5938\n",
      "Epoch 10/30\n",
      "16/16 [==============================] - 3s 169ms/step - loss: 0.0238 - accuracy: 1.0000 - val_loss: 1.2326 - val_accuracy: 0.6042\n",
      "Epoch 11/30\n",
      "16/16 [==============================] - 3s 171ms/step - loss: 0.0157 - accuracy: 1.0000 - val_loss: 1.4223 - val_accuracy: 0.4896\n",
      "Epoch 12/30\n",
      "16/16 [==============================] - 3s 185ms/step - loss: 0.0084 - accuracy: 1.0000 - val_loss: 1.2547 - val_accuracy: 0.5729\n",
      "Epoch 13/30\n",
      "16/16 [==============================] - 3s 169ms/step - loss: 0.0057 - accuracy: 1.0000 - val_loss: 1.3335 - val_accuracy: 0.5104\n",
      "Epoch 14/30\n",
      "16/16 [==============================] - 3s 180ms/step - loss: 0.0044 - accuracy: 1.0000 - val_loss: 1.3452 - val_accuracy: 0.5208\n",
      "7/7 [==============================] - 1s 80ms/step - loss: 1.6343 - accuracy: 0.5102\n"
     ]
    },
    {
     "data": {
      "text/plain": [
       "[1.634341835975647, 0.5102040767669678]"
      ]
     },
     "execution_count": 30,
     "metadata": {},
     "output_type": "execute_result"
    }
   ],
   "source": [
    "callback = tf.keras.callbacks.EarlyStopping(monitor='val_loss', patience=5)\n",
    "history = model.fit(x_train, y_train, epochs=30, batch_size=16, callbacks=[callback], \n",
    "                    validation_data=[x_validation, y_validation])\n",
    "model.evaluate(x_test, y_test)"
   ]
  },
  {
   "cell_type": "code",
   "execution_count": 31,
   "metadata": {},
   "outputs": [
    {
     "data": {
      "image/png": "[encoded data removed]",
      "text/plain": [
       "<Figure size 432x288 with 1 Axes>"
      ]
     },
     "metadata": {
      "needs_background": "light"
     },
     "output_type": "display_data"
    }
   ],
   "source": [
    "plt.plot(history.history['accuracy'], label='accuracy'), \n",
    "plt.plot(history.history['val_accuracy'], label='val_accuracy') \n",
    "plt.plot(history.history['loss'], label='loss'),\n",
    "plt.plot(history.history['val_loss'], label='val_loss')\n",
    "plt.legend(loc='best')\n",
    "plt.show()"
   ]
  }
 ],
 "metadata": {
  "kernelspec": {
   "display_name": "Python 3.10.5 ('.venv': venv)",
   "language": "python",
   "name": "python3"
  },
  "language_info": {
   "codemirror_mode": {
    "name": "ipython",
    "version": 3
   },
   "file_extension": ".py",
   "mimetype": "text/x-python",
   "name": "python",
   "nbconvert_exporter": "python",
   "pygments_lexer": "ipython3",
   "version": "3.10.5"
  },
  "vscode": {
   "interpreter": {
    "hash": "4f237e6e5550ba3730a6f8ad5818fbd25bb9412cb464b977ed07fea0d0b1f9e4"
   }
  }
 },
 "nbformat": 4,
 "nbformat_minor": 2
}
